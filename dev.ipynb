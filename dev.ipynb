{
 "cells": [
  {
   "cell_type": "code",
   "execution_count": 4,
   "metadata": {},
   "outputs": [],
   "source": [
    "from sqlmodel import create_engine, Session, SQLModel, Field, select\n",
    "from sqltypes import CustomTypeMeta\n",
    "from sqlalchemy.types import TypeDecorator, String\n",
    "from typing import Literal, TypeVar\n",
    "from pydantic import RootModel\n",
    "S = TypeVar('S', bound=str)"
   ]
  },
  {
   "cell_type": "code",
   "execution_count": 5,
   "metadata": {},
   "outputs": [],
   "source": [
    "class ValidatedLiteral(type):\n",
    "  def __new__(cls, LiteralType: type[S]) -> type[TypeDecorator[S]]:\n",
    "    Type = RootModel[LiteralType]\n",
    "    def dump(x: S) -> str:\n",
    "      Type.model_validate(x)\n",
    "      return x\n",
    "    def parse(x: str) -> S:\n",
    "      Type.model_validate(x)\n",
    "      return x # type: ignore\n",
    "    return CustomTypeMeta(LiteralType.__name__, (), {}, String, dump=dump, parse=parse)"
   ]
  },
  {
   "cell_type": "code",
   "execution_count": null,
   "metadata": {},
   "outputs": [],
   "source": [
    "class MyLit(SQLModel, table=True):\n",
    "  id: int | None = Field(default=None, primary_key=True)\n",
    "  lit: Literal['a', 'b'] = Field(sa_type=ValidatedLiteral())"
   ]
  },
  {
   "cell_type": "code",
   "execution_count": 3,
   "metadata": {},
   "outputs": [],
   "source": [
    "engine = create_engine('sqlite:///db.sqlite')"
   ]
  }
 ],
 "metadata": {
  "kernelspec": {
   "display_name": ".venv",
   "language": "python",
   "name": "python3"
  },
  "language_info": {
   "codemirror_mode": {
    "name": "ipython",
    "version": 3
   },
   "file_extension": ".py",
   "mimetype": "text/x-python",
   "name": "python",
   "nbconvert_exporter": "python",
   "pygments_lexer": "ipython3",
   "version": "3.11.6"
  }
 },
 "nbformat": 4,
 "nbformat_minor": 2
}
