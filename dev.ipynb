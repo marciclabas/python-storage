{
 "cells": [
  {
   "cell_type": "code",
   "execution_count": 1,
   "metadata": {},
   "outputs": [],
   "source": [
    "import requests\n",
    "from typing import TypeVar, Generic, AsyncIterable, Literal, Sequence, overload\n",
    "from q.api import ReadQueue, WriteQueue, ReadError, QueueError, Queue\n",
    "from dataclasses import dataclass\n",
    "from haskellian import Either, Thunk, Left, Right, asyn_iter as AI\n",
    "from pydantic import TypeAdapter\n",
    "import httpx\n",
    "from q.http.client import ReadClientQ, WriteClientQ\n",
    "from urllib.parse import urljoin\n",
    "\n",
    "T = TypeVar('T')"
   ]
  },
  {
   "cell_type": "code",
   "execution_count": 2,
   "metadata": {},
   "outputs": [],
   "source": []
  },
  {
   "cell_type": "code",
   "execution_count": 3,
   "metadata": {},
   "outputs": [],
   "source": [
    "Q = ClientQueue(dict, 'http://localhost:8000/')"
   ]
  },
  {
   "cell_type": "code",
   "execution_count": 5,
   "metadata": {},
   "outputs": [
    {
     "data": {
      "text/plain": [
       "Right(value=None, tag='right')"
      ]
     },
     "execution_count": 5,
     "metadata": {},
     "output_type": "execute_result"
    }
   ],
   "source": [
    "await Q.push('key4', {'a': 1, 'b': 2})"
   ]
  },
  {
   "cell_type": "code",
   "execution_count": 7,
   "metadata": {},
   "outputs": [
    {
     "data": {
      "text/plain": [
       "[Right(value=('key1', {'value': 'value1'}), tag='right'),\n",
       " Right(value=('key2', {'value': 'value1'}), tag='right'),\n",
       " Right(value=('key3', {'a': 1, 'b': 2}), tag='right'),\n",
       " Right(value=('key4', {'a': 1, 'b': 2}), tag='right')]"
      ]
     },
     "execution_count": 7,
     "metadata": {},
     "output_type": "execute_result"
    }
   ],
   "source": [
    "r = await Q.items().sync()\n",
    "r"
   ]
  },
  {
   "cell_type": "code",
   "execution_count": 7,
   "metadata": {},
   "outputs": [
    {
     "name": "stdout",
     "output_type": "stream",
     "text": [
      "200\n",
      "[{'value': ['key1', {'value': 'value1'}], 'tag': 'right'}, {'value': ['key2', {'value': 'value1'}], 'tag': 'right'}, {'value': ['key3', {'a': 1, 'b': 2}], 'tag': 'right'}]\n"
     ]
    }
   ],
   "source": [
    "r = requests.get('http://localhost:8000/read/items')\n",
    "print(r.status_code)\n",
    "print(r.json())"
   ]
  },
  {
   "cell_type": "code",
   "execution_count": 20,
   "metadata": {},
   "outputs": [
    {
     "name": "stdout",
     "output_type": "stream",
     "text": [
      "200\n",
      "{'value': None, 'tag': 'right'}\n"
     ]
    }
   ],
   "source": [
    "r = requests.post('http://localhost:8000/write/push/key2', json={'value': 'value1'})\n",
    "print(r.status_code)\n",
    "print(r.json())"
   ]
  }
 ],
 "metadata": {
  "kernelspec": {
   "display_name": ".venv",
   "language": "python",
   "name": "python3"
  },
  "language_info": {
   "codemirror_mode": {
    "name": "ipython",
    "version": 3
   },
   "file_extension": ".py",
   "mimetype": "text/x-python",
   "name": "python",
   "nbconvert_exporter": "python",
   "pygments_lexer": "ipython3",
   "version": "3.11.6"
  }
 },
 "nbformat": 4,
 "nbformat_minor": 2
}
