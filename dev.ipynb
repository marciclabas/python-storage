{
 "cells": [
  {
   "cell_type": "code",
   "execution_count": 1,
   "metadata": {},
   "outputs": [],
   "source": [
    "from typing import TypeVar, Generic, Sequence, overload, TypeGuard\n",
    "import asyncio\n",
    "from q.api import WriteQueue, SimpleQueue, ops\n",
    "\n",
    "A = TypeVar('A')\n",
    "B = TypeVar('B')"
   ]
  },
  {
   "cell_type": "code",
   "execution_count": 2,
   "metadata": {},
   "outputs": [],
   "source": [
    "def is_int(x) -> TypeGuard[int]:\n",
    "    return isinstance(x, int)\n",
    "\n",
    "def is_str(x) -> TypeGuard[str]:\n",
    "    return isinstance(x, str)\n",
    "\n",
    "q1 = SimpleQueue[int]()\n",
    "q2 = SimpleQueue[str]()\n",
    "\n",
    "q = ops.tee[int|str](q1.prefilter(is_int), q2.prefilter(is_str))\n",
    "for i in range(5):\n",
    "  await q.push(f'int{i}', i)\n",
    "  await q.push(f'str{i}', str(i))"
   ]
  },
  {
   "cell_type": "code",
   "execution_count": 3,
   "metadata": {},
   "outputs": [
    {
     "data": {
      "text/plain": [
       "('int4', 4)"
      ]
     },
     "execution_count": 3,
     "metadata": {},
     "output_type": "execute_result"
    }
   ],
   "source": [
    "await q1.pop()"
   ]
  },
  {
   "cell_type": "code",
   "execution_count": 4,
   "metadata": {},
   "outputs": [
    {
     "name": "stdout",
     "output_type": "stream",
     "text": [
      "[('int0', 0), ('int1', 1), ('int2', 2), ('int3', 3)]\n",
      "[('str0', '0'), ('str1', '1'), ('str2', '2'), ('str3', '3'), ('str4', '4')]\n"
     ]
    }
   ],
   "source": [
    "print(await q1.items().sync())\n",
    "print(await q2.items().sync())"
   ]
  }
 ],
 "metadata": {
  "kernelspec": {
   "display_name": ".venv",
   "language": "python",
   "name": "python3"
  },
  "language_info": {
   "codemirror_mode": {
    "name": "ipython",
    "version": 3
   },
   "file_extension": ".py",
   "mimetype": "text/x-python",
   "name": "python",
   "nbconvert_exporter": "python",
   "pygments_lexer": "ipython3",
   "version": "3.11.6"
  }
 },
 "nbformat": 4,
 "nbformat_minor": 2
}
