{
 "cells": [
  {
   "cell_type": "code",
   "execution_count": 1,
   "metadata": {},
   "outputs": [],
   "source": [
    "import os\n",
    "from dotenv import load_dotenv\n",
    "load_dotenv()\n",
    "from typing import TypeVar\n",
    "T = TypeVar('T')\n",
    "from kv.api import KV\n",
    "from kv.sql import SQLKV\n",
    "from kv.azure.blob import BlobKV, BlobContainerKV"
   ]
  },
  {
   "cell_type": "code",
   "execution_count": 2,
   "metadata": {},
   "outputs": [],
   "source": [
    "CONN_STR = os.environ['BLOB_CONN_STR']\n",
    "kv = BlobKV.from_conn_str(CONN_STR)"
   ]
  },
  {
   "cell_type": "code",
   "execution_count": null,
   "metadata": {},
   "outputs": [],
   "source": [
    "def parse(type: type[T], conn_str: str) -> KV[T]:\n",
    "    if conn_str.startswith(\"azure+blob://\"):\n",
    "        from kv.azure.blob import BlobKV\n",
    "        return BlobKV.validated(type, conn_str.split('://')[1])\n",
    "    if conn_str.startswith(\"azure+blob+container://\"):\n",
    "        parts = conn_str.split('://')[1].split(';', maxsplit=1)\n",
    "        if len(parts) != 2 or not parts[0].startswith(\"Container=\"):\n",
    "          raise ValueError(\"Invalid connection string. Expected 'azure+blob+container://Container=<container_name>;<connection_string>'\")\n",
    "        from kv.azure.blob import BlobContainerKV\n",
    "        from azure.storage.blob.aio import BlobServiceClient\n",
    "        container = parts[0].split('=')[1]\n",
    "        client = lambda: BlobServiceClient.from_connection_string\n",
    "        return BlobContainerKV(conn_str)\n",
    "    if conn_str.startswith(\"sqlite://\"):\n",
    "        return SQLKV(conn_str)\n",
    "    raise ValueError(f\"Unknown connection string: {conn_str}\")"
   ]
  }
 ],
 "metadata": {
  "kernelspec": {
   "display_name": ".venv",
   "language": "python",
   "name": "python3"
  },
  "language_info": {
   "codemirror_mode": {
    "name": "ipython",
    "version": 3
   },
   "file_extension": ".py",
   "mimetype": "text/x-python",
   "name": "python",
   "nbconvert_exporter": "python",
   "pygments_lexer": "ipython3",
   "version": "3.11.6"
  }
 },
 "nbformat": 4,
 "nbformat_minor": 2
}
