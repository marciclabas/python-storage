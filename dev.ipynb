{
 "cells": [
  {
   "cell_type": "code",
   "execution_count": 1,
   "metadata": {},
   "outputs": [],
   "source": [
    "from sqlmodel import create_engine, Session, SQLModel, Field, select\n",
    "from sqlalchemy import Engine\n",
    "from sqlalchemy.exc import DatabaseError\n",
    "from sqltypes import PydanticModel\n",
    "from pydantic import RootModel\n",
    "from kv.api import KV\n",
    "from haskellian import Either, Left, Right, either as E\n",
    "from typing import TypeVar, Generic\n",
    "T = TypeVar('T')"
   ]
  },
  {
   "cell_type": "code",
   "execution_count": 2,
   "metadata": {},
   "outputs": [],
   "source": [
    "from typing_extensions import AsyncIterable, Awaitable, Sequence\n",
    "from kv.api import DBError, InexistentItem, InvalidData\n",
    "\n",
    "class SQLKV(KV[T], Generic[T]):\n",
    "\n",
    "  def __init__(self, Type: type[T], engine: Engine, table: str = 'kv'):\n",
    "    self.Type = RootModel[Type]\n",
    "    self.engine = engine\n",
    "\n",
    "    class Table(SQLModel, table=True):\n",
    "      __tablename__ = table # type: ignore (duh)\n",
    "      key: str = Field(primary_key=True)\n",
    "      value: RootModel[Type] = Field(sa_type=PydanticModel(self.Type))\n",
    "\n",
    "    self.Table = Table\n",
    "    SQLModel.metadata.create_all(engine)\n",
    "\n",
    "  async def _delete(self, key: str) -> Either[DBError | InexistentItem, None]:\n",
    "    try:\n",
    "      with Session(self.engine) as session:\n",
    "        stmt = select(self.Table).where(self.Table.key == key)\n",
    "        row = session.exec(stmt).first()\n",
    "        if row is None:\n",
    "          return Left(InexistentItem(key))\n",
    "        session.delete(row)\n",
    "        session.commit()\n",
    "        return Right(None)\n",
    "    except DatabaseError as e:\n",
    "      return Left(DBError(e))\n",
    "\n",
    "  async def _read(self, key: str) -> Either[DBError | InvalidData | InexistentItem, T]:\n",
    "    try:\n",
    "      with Session(self.engine) as session:\n",
    "        stmt = select(self.Table).where(self.Table.key == key)\n",
    "        row = session.exec(stmt).first()\n",
    "        if row is None:\n",
    "          return Left(InexistentItem(key))\n",
    "        return Right(row.value.root)\n",
    "    except DatabaseError as e:\n",
    "      return Left(DBError(e))\n",
    "\n",
    "  async def _insert(self, key: str, value: T) -> Either[DBError, None]:\n",
    "    try:\n",
    "      with Session(self.engine) as session:\n",
    "        stmt = select(self.Table).where(self.Table.key == key)\n",
    "        row = session.exec(stmt).first()\n",
    "        if row is not None:\n",
    "          session.delete(row)\n",
    "        session.add(self.Table(key=key, value=self.Type(value)))\n",
    "        session.commit()\n",
    "        return Right(None)\n",
    "    except DatabaseError as e:\n",
    "      return Left(DBError(e))\n",
    "\n",
    "  async def _keys(self) -> Either[DBError, Sequence[str]]:\n",
    "    try:\n",
    "      with Session(self.engine) as session:\n",
    "        stmt = select(self.Table.key)\n",
    "        return Right(session.exec(stmt).all())\n",
    "    except DatabaseError as e:\n",
    "      return Left(DBError(e))\n",
    "\n",
    "  async def _items(self, batch_size: int | None = None) -> AsyncIterable[Either[DBError | InvalidData, tuple[str, T]]]:\n",
    "    try:\n",
    "      with Session(self.engine) as session:\n",
    "        result = session.exec(select(self.Table))\n",
    "        while (batch := result.fetchmany(batch_size)) != []:\n",
    "          for row in batch:\n",
    "            yield Right((row.key, row.value.root))\n",
    "    except DatabaseError as e:\n",
    "      yield Left(DBError(e))"
   ]
  },
  {
   "cell_type": "code",
   "execution_count": 3,
   "metadata": {},
   "outputs": [],
   "source": [
    "engine = create_engine('sqlite:///db.sqlite')\n",
    "kv = SQLKV(tuple[int, str], engine)"
   ]
  },
  {
   "cell_type": "code",
   "execution_count": 5,
   "metadata": {},
   "outputs": [
    {
     "data": {
      "text/plain": [
       "Right(value=None, tag='right')"
      ]
     },
     "execution_count": 5,
     "metadata": {},
     "output_type": "execute_result"
    }
   ],
   "source": [
    "await kv.insert('bye', (1, 'one'))"
   ]
  }
 ],
 "metadata": {
  "kernelspec": {
   "display_name": ".venv",
   "language": "python",
   "name": "python3"
  },
  "language_info": {
   "codemirror_mode": {
    "name": "ipython",
    "version": 3
   },
   "file_extension": ".py",
   "mimetype": "text/x-python",
   "name": "python",
   "nbconvert_exporter": "python",
   "pygments_lexer": "ipython3",
   "version": "3.11.6"
  }
 },
 "nbformat": 4,
 "nbformat_minor": 2
}
