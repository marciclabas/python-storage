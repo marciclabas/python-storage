{
 "cells": [
  {
   "cell_type": "code",
   "execution_count": 7,
   "metadata": {},
   "outputs": [],
   "source": [
    "from q.http.client import ClientQueue\n",
    "from q.api import QueueError\n",
    "import requests\n",
    "from haskellian import either as E\n",
    "from pydantic import RootModel\n",
    "import json"
   ]
  },
  {
   "cell_type": "code",
   "execution_count": null,
   "metadata": {},
   "outputs": [],
   "source": []
  },
  {
   "cell_type": "code",
   "execution_count": 2,
   "metadata": {},
   "outputs": [],
   "source": [
    "queue = ClientQueue.validated(dict, 'http://localhost:8000')\n",
    "\n",
    "# await queue.push('hello', dict(hello='world'))"
   ]
  },
  {
   "cell_type": "code",
   "execution_count": 3,
   "metadata": {},
   "outputs": [
    {
     "data": {
      "text/plain": [
       "Left(value=QueueError(detail=1 validation error for RootModel[dict]\n",
       "  Input should be an object [type=dict_type, input_value='{\"value\":\"value1\"}', input_type=str]\n",
       "    For further information visit https://errors.pydantic.dev/2.7/v/dict_type, reason='queue-error'), tag='left')"
      ]
     },
     "execution_count": 3,
     "metadata": {},
     "output_type": "execute_result"
    }
   ],
   "source": [
    "await queue.read()"
   ]
  },
  {
   "cell_type": "code",
   "execution_count": 6,
   "metadata": {},
   "outputs": [
    {
     "name": "stdout",
     "output_type": "stream",
     "text": [
      "200\n",
      "b'\"key1\"'\n"
     ]
    }
   ],
   "source": [
    "r = requests.get('http://localhost:8000/read/read/any')\n",
    "print(r.status_code)\n",
    "print(r.content)"
   ]
  },
  {
   "cell_type": "code",
   "execution_count": 7,
   "metadata": {},
   "outputs": [
    {
     "name": "stdout",
     "output_type": "stream",
     "text": [
      "200\n",
      "b'null'\n"
     ]
    }
   ],
   "source": [
    "r = requests.post('http://localhost:8000/write/push?key=key1', json={'value': 'value1'})\n",
    "print(r.status_code)\n",
    "print(r.content)"
   ]
  }
 ],
 "metadata": {
  "kernelspec": {
   "display_name": ".venv",
   "language": "python",
   "name": "python3"
  },
  "language_info": {
   "codemirror_mode": {
    "name": "ipython",
    "version": 3
   },
   "file_extension": ".py",
   "mimetype": "text/x-python",
   "name": "python",
   "nbconvert_exporter": "python",
   "pygments_lexer": "ipython3",
   "version": "3.11.6"
  }
 },
 "nbformat": 4,
 "nbformat_minor": 2
}
