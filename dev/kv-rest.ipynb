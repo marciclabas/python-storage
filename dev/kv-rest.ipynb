{
 "cells": [
  {
   "cell_type": "code",
   "execution_count": 1,
   "metadata": {},
   "outputs": [],
   "source": [
    "import requests\n",
    "from typing import TypeVar, Generic, AsyncIterable, Literal, Sequence, overload\n",
    "from q.api import ReadQueue, WriteQueue, ReadError, QueueError, Queue\n",
    "from dataclasses import dataclass\n",
    "from haskellian import Either, Thunk, Left, Right, asyn_iter as AI\n",
    "from pydantic import TypeAdapter\n",
    "import httpx\n",
    "from kv.rest import ClientKV\n",
    "\n",
    "T = TypeVar('T')"
   ]
  },
  {
   "cell_type": "code",
   "execution_count": 6,
   "metadata": {},
   "outputs": [
    {
     "data": {
      "text/plain": [
       "Right(value=b'\"world\"', tag='right')"
      ]
     },
     "execution_count": 6,
     "metadata": {},
     "output_type": "execute_result"
    }
   ],
   "source": [
    "kv = ClientKV('http://localhost:8000')\n",
    "await kv.read('hello.txt')"
   ]
  },
  {
   "cell_type": "code",
   "execution_count": 4,
   "metadata": {},
   "outputs": [
    {
     "data": {
      "text/plain": [
       "Right(value=None, tag='right')"
      ]
     },
     "execution_count": 4,
     "metadata": {},
     "output_type": "execute_result"
    }
   ],
   "source": [
    "await kv.insert('hello.txt', b'world')"
   ]
  },
  {
   "cell_type": "code",
   "execution_count": 9,
   "metadata": {},
   "outputs": [
    {
     "name": "stdout",
     "output_type": "stream",
     "text": [
      "404\n",
      "b'{\"key\":\"fil.txt\",\"detail\":\"File not found: /home/m4rs/github/python-storage/blobs/fil.txt\",\"reason\":\"inexistent-item\"}'\n"
     ]
    }
   ],
   "source": [
    "r = requests.get('http://localhost:8000/read?key=fil.txt')\n",
    "print(r.status_code)\n",
    "print(r.content)"
   ]
  },
  {
   "cell_type": "code",
   "execution_count": 18,
   "metadata": {},
   "outputs": [
    {
     "name": "stdout",
     "output_type": "stream",
     "text": [
      "200\n",
      "b'{\"value\":null,\"tag\":\"right\"}'\n"
     ]
    }
   ],
   "source": [
    "r = requests.post('http://localhost:8000/insert?key=file.txt', data=b'image1')\n",
    "print(r.status_code)\n",
    "print(r.content)"
   ]
  }
 ],
 "metadata": {
  "kernelspec": {
   "display_name": ".venv",
   "language": "python",
   "name": "python3"
  },
  "language_info": {
   "codemirror_mode": {
    "name": "ipython",
    "version": 3
   },
   "file_extension": ".py",
   "mimetype": "text/x-python",
   "name": "python",
   "nbconvert_exporter": "python",
   "pygments_lexer": "ipython3",
   "version": "3.11.6"
  }
 },
 "nbformat": 4,
 "nbformat_minor": 2
}
