{
 "cells": [
  {
   "cell_type": "code",
   "execution_count": 3,
   "metadata": {},
   "outputs": [
    {
     "data": {
      "text/plain": [
       "Right(value=None, tag='right')"
      ]
     },
     "execution_count": 3,
     "metadata": {},
     "output_type": "execute_result"
    }
   ],
   "source": [
    "from kv.sqlite import SQLiteKV, InvalidData\n",
    "from haskellian import Either, Left, Right\n",
    "import json\n",
    "\n",
    "def safe_parse(x: str) -> Either[InvalidData, dict]:\n",
    "  try:\n",
    "    return Right(json.loads(x))\n",
    "  except Exception as e:\n",
    "    return Left(InvalidData(e))\n",
    "  \n",
    "kv = SQLiteKV[dict].validated(\n",
    "  tuple[str, int],\n",
    "  db_path='mydb.sqlite', table='my-jsons',\n",
    ")\n",
    "\n",
    "await kv.insert('key1', ('a', 1))"
   ]
  },
  {
   "cell_type": "code",
   "execution_count": 4,
   "metadata": {},
   "outputs": [
    {
     "data": {
      "text/plain": [
       "[Right(value=('key1', ('a', 1)), tag='right')]"
      ]
     },
     "execution_count": 4,
     "metadata": {},
     "output_type": "execute_result"
    }
   ],
   "source": [
    "await kv.items().sync()"
   ]
  }
 ],
 "metadata": {
  "kernelspec": {
   "display_name": ".venv",
   "language": "python",
   "name": "python3"
  },
  "language_info": {
   "codemirror_mode": {
    "name": "ipython",
    "version": 3
   },
   "file_extension": ".py",
   "mimetype": "text/x-python",
   "name": "python",
   "nbconvert_exporter": "python",
   "pygments_lexer": "ipython3",
   "version": "3.11.6"
  }
 },
 "nbformat": 4,
 "nbformat_minor": 2
}
